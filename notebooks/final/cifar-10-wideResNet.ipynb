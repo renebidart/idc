{
 "cells": [
  {
   "cell_type": "markdown",
   "metadata": {},
   "source": [
    "# Wide ResNet\n",
    "From: https://github.com/meliketoy/wide-resnet.pytorch/blob/master/networks/wide_resnet.py\n",
    "\n",
    "Just altered the training script to take different save dir\n",
    "The requirements.txt is incorrect, will just havr to guess"
   ]
  },
  {
   "cell_type": "code",
   "execution_count": 1,
   "metadata": {},
   "outputs": [
    {
     "name": "stdout",
     "output_type": "stream",
     "text": [
      "/media/rene/code/idc/src\n",
      "2\n",
      "True\n",
      "0\n"
     ]
    }
   ],
   "source": [
    "import os\n",
    "import sys\n",
    "import random\n",
    "import numpy as np\n",
    "import pandas as pd\n",
    "from pathlib import Path\n",
    "import matplotlib.pyplot as plt\n",
    "from matplotlib.pyplot import imshow\n",
    "from IPython.display import display, HTML\n",
    "\n",
    "%reload_ext autoreload\n",
    "%autoreload 2\n",
    "%matplotlib inline\n",
    "\n",
    "import torch\n",
    "import torch.nn as nn\n",
    "import torch.utils.data\n",
    "import torch.optim as optim\n",
    "from torch.autograd import Variable\n",
    "from torch.optim import lr_scheduler\n",
    "\n",
    "import torchvision\n",
    "import torchvision.transforms as transforms\n",
    "from torchvision.models import resnet50, densenet121\n",
    "from torchvision import datasets, models, transforms\n",
    "\n",
    "\n",
    "%reload_ext autoreload\n",
    "%autoreload 2\n",
    "%matplotlib inline\n",
    "\n",
    "PATH = Path('/media/rene/data')\n",
    "\n",
    "# Add the src directory for functions\n",
    "src_dir = Path.cwd().parent.parent / 'src'\n",
    "print(src_dir)\n",
    "sys.path.append(str(src_dir))\n",
    "sys.path.append('/media/rene/code/wide-resnet.pytorch')\n",
    "\n",
    "\n",
    "# import my functions:\n",
    "from utils import make_cfiar10\n",
    "from functions import*\n",
    "from models import*\n",
    "from networks import Wide_ResNet\n",
    "\n",
    "\n",
    "device=\"cuda:0\"\n",
    "print(torch.cuda.device_count())\n",
    "print(torch.cuda.is_available())\n",
    "print(torch.cuda.current_device())"
   ]
  },
  {
   "cell_type": "markdown",
   "metadata": {},
   "source": [
    "## Find 4 best models\n",
    "\n",
    "* Is there anything better about using their standard dataloaders rather than the way I did it?"
   ]
  },
  {
   "cell_type": "code",
   "execution_count": 9,
   "metadata": {},
   "outputs": [
    {
     "name": "stdout",
     "output_type": "stream",
     "text": [
      "Files already downloaded and verified\n",
      "Files already downloaded and verified\n",
      "| Wide-Resnet 28x20\n",
      "/media/rene/data/cifar-10-batches-py/wide-RN-models/wideRN0.t7\n",
      "Testing model :  0\n",
      "Loss: 0.0046 Acc: 0.9601\n",
      "| Wide-Resnet 28x20\n",
      "/media/rene/data/cifar-10-batches-py/wide-RN-models/wideRN1.t7\n",
      "Testing model :  1\n",
      "Loss: 0.0046 Acc: 0.9600\n",
      "| Wide-Resnet 28x20\n",
      "/media/rene/data/cifar-10-batches-py/wide-RN-models/wideRN2.t7\n",
      "Testing model :  2\n",
      "Loss: 0.0046 Acc: 0.9614\n",
      "| Wide-Resnet 28x20\n",
      "/media/rene/data/cifar-10-batches-py/wide-RN-models/wideRN3.t7\n",
      "Testing model :  3\n",
      "Loss: 0.0048 Acc: 0.9600\n",
      "| Wide-Resnet 28x20\n",
      "/media/rene/data/cifar-10-batches-py/wide-RN-models/wideRN4.t7\n",
      "Testing model :  4\n",
      "Loss: 0.0046 Acc: 0.9600\n",
      "| Wide-Resnet 28x20\n",
      "/media/rene/data/cifar-10-batches-py/wide-RN-models/wideRN5.t7\n",
      "Testing model :  5\n",
      "Loss: 0.0045 Acc: 0.9612\n"
     ]
    }
   ],
   "source": [
    "# add directory for the wide resnet\n",
    "sys.path.append('/media/rene/code/wide-resnet.pytorch')\n",
    "from networks import *\n",
    "\n",
    "save_path = '/media/rene/data/cifar-10-batches-py/wide-RN-models'\n",
    "PATH = '/media/rene/data'\n",
    "num_workers = 4\n",
    "batch_size=32\n",
    "dataloaders, dataset_sizes = make_batch_gen_cifar(str(PATH), batch_size, num_workers,\n",
    "                                                   valid_name='valid')\n",
    "\n",
    "criterion = nn.CrossEntropyLoss()\n",
    "results = {}\n",
    "\n",
    "for i in range(6):\n",
    "    model_name = 'wideRN'+str(i)+'.t7'\n",
    "    model = Wide_ResNet(28, 20, 0, 10)\n",
    "    device=\"cuda:1\"\n",
    "    model = model.to(device)\n",
    "    \n",
    "    # load the saved weights\n",
    "    model_path = os.path.join(save_path, model_name)\n",
    "    print(model_path)\n",
    "    model.load_state_dict(torch.load(model_path)['net'].state_dict())\n",
    "\n",
    "    print('Testing model : ', i)\n",
    "    valid_loss, valid_acc = eval_model(model, dataloaders['valid'], dataset_sizes['valid'], criterion, device=device)\n",
    "    results[model_name] = [valid_acc]\n",
    "    \n",
    "f = open(os.path.join(save_path, \"wideRN_al68.pkl\"),\"wb\")\n",
    "pickle.dump(results,f)\n",
    "f.close()"
   ]
  },
  {
   "cell_type": "code",
   "execution_count": 10,
   "metadata": {},
   "outputs": [
    {
     "name": "stdout",
     "output_type": "stream",
     "text": [
      "[('wideRN2.t7', 0.9614), ('wideRN5.t7', 0.9612), ('wideRN0.t7', 0.9601), ('wideRN1.t7', 0.96), ('wideRN3.t7', 0.96), ('wideRN4.t7', 0.96)]\n"
     ]
    }
   ],
   "source": [
    "import operator\n",
    "\n",
    "results2 = {key:value[0] for (key,value) in results.items()}\n",
    "sorted_x = sorted(results2.items(), key=operator.itemgetter(1), reverse=True)\n",
    "print(sorted_x)"
   ]
  },
  {
   "cell_type": "markdown",
   "metadata": {},
   "source": [
    "# Fusion Model"
   ]
  },
  {
   "cell_type": "code",
   "execution_count": 2,
   "metadata": {},
   "outputs": [
    {
     "name": "stdout",
     "output_type": "stream",
     "text": [
      "Files already downloaded and verified\n",
      "Files already downloaded and verified\n",
      "| Wide-Resnet 28x20\n",
      "/media/rene/data/cifar-10-batches-py/wide-RN-models/wideRN2.t7\n",
      "| Wide-Resnet 28x20\n",
      "/media/rene/data/cifar-10-batches-py/wide-RN-models/wideRN5.t7\n",
      "| Wide-Resnet 28x20\n",
      "/media/rene/data/cifar-10-batches-py/wide-RN-models/wideRN0.t7\n",
      "| Wide-Resnet 28x20\n",
      "/media/rene/data/cifar-10-batches-py/wide-RN-models/wideRN1.t7\n",
      "Loss: 0.0227 Acc: 0.9687\n",
      "Fusion2_WRN_1:  0.02274664867669344 0.9687\n",
      "Loss: 0.0180 Acc: 0.9672\n",
      "Fusion2_WRN_2:  0.017988840979337693 0.9672\n"
     ]
    }
   ],
   "source": [
    "save_path =  Path(PATH / 'cifar-10-batches-py' / 'wide-RN-models')\n",
    "\n",
    "model_name_list = ['wideRN2.t7', 'wideRN5.t7', 'wideRN0.t7', 'wideRN1.t7']\n",
    "num_workers = 6\n",
    "batch_size = 8\n",
    "criterion = nn.CrossEntropyLoss()\n",
    "\n",
    "dataloaders, dataset_sizes = make_batch_gen_cifar(str(PATH), batch_size, num_workers,\n",
    "                                                   valid_name='valid')\n",
    "\n",
    "pretrained_model_list = []\n",
    "for i, model_name in enumerate(model_name_list):\n",
    "    model = Wide_ResNet(28, 20, 0, 10)\n",
    "    model = model.to(device)\n",
    "    \n",
    "    # load the saved weights\n",
    "    model_path = os.path.join(save_path, model_name)\n",
    "    print(model_path)\n",
    "    model.load_state_dict(torch.load(model_path)['net'].state_dict())\n",
    "    pretrained_model_list.append(model)\n",
    "    \n",
    "model = Fusion2(pretrained_model_list, num_input=40, num_output=10)\n",
    "model.load_state_dict(torch.load(os.path.join(save_path, 'Fusion2_WRN_1')))\n",
    "model = model.to(device)\n",
    "\n",
    "valid_loss, valid_acc = eval_model(model, dataloaders['valid'], dataset_sizes['valid'], criterion, device=device)\n",
    "print('Fusion2_WRN_1: ', valid_loss, valid_acc)\n",
    "\n",
    "model = Fusion2(pretrained_model_list, num_input=40, num_output=10)\n",
    "model.load_state_dict(torch.load(os.path.join(save_path, 'Fusion2_WRN_2')))\n",
    "model = model.to(device)\n",
    "\n",
    "valid_loss, valid_acc = eval_model(model, dataloaders['valid'], dataset_sizes['valid'], criterion)\n",
    "print('Fusion2_WRN_2: ', valid_loss, valid_acc)"
   ]
  },
  {
   "cell_type": "code",
   "execution_count": null,
   "metadata": {},
   "outputs": [],
   "source": []
  }
 ],
 "metadata": {
  "kernelspec": {
   "display_name": "ADV",
   "language": "python",
   "name": "adv"
  },
  "language_info": {
   "codemirror_mode": {
    "name": "ipython",
    "version": 3
   },
   "file_extension": ".py",
   "mimetype": "text/x-python",
   "name": "python",
   "nbconvert_exporter": "python",
   "pygments_lexer": "ipython3",
   "version": "3.6.3"
  }
 },
 "nbformat": 4,
 "nbformat_minor": 2
}
